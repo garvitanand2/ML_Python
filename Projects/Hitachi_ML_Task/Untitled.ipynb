{
 "cells": [
  {
   "cell_type": "markdown",
   "metadata": {},
   "source": [
    "### Including the important libraries"
   ]
  },
  {
   "cell_type": "code",
   "execution_count": 4,
   "metadata": {},
   "outputs": [],
   "source": [
    "import numpy as np \n",
    "import pandas as pd\n",
    "import matplotlib.pyplot as plt "
   ]
  },
  {
   "cell_type": "markdown",
   "metadata": {},
   "source": [
    "### Loading the data "
   ]
  },
  {
   "cell_type": "code",
   "execution_count": 2,
   "metadata": {},
   "outputs": [],
   "source": [
    "data = pd.read_csv('Train.csv')"
   ]
  },
  {
   "cell_type": "markdown",
   "metadata": {},
   "source": [
    "### Analyzing the data "
   ]
  },
  {
   "cell_type": "code",
   "execution_count": 5,
   "metadata": {},
   "outputs": [
    {
     "name": "stdout",
     "output_type": "stream",
     "text": [
      "           id_code current_date current_time  source_name destination_name  \\\n",
      "0  isfywypmkqqhyft   2016-07-27  08:05:51 PM  station$147        station$1   \n",
      "1  mqsfxyvuqpbwomk   2016-07-27  08:06:11 PM  station$147        station$1   \n",
      "2  alspwwtbdvqsgby   2016-07-27  08:08:57 PM  station$147        station$1   \n",
      "3  szitxhhqduyrqpg   2016-07-27  08:09:08 PM  station$147        station$1   \n",
      "4  krisdqzczivvwcp   2016-07-27  08:11:01 PM  station$147        station$1   \n",
      "\n",
      "  train_name target country_code_source  longitude_source  latitude_source  \\\n",
      "0     ICZVZS   high               whber          4.356801        50.845658   \n",
      "1     ICZVZS   high               whber          4.356801        50.845658   \n",
      "2     ICZVZS   high               whber          4.356801        50.845658   \n",
      "3     ICZVZS   high               whber          4.356801        50.845658   \n",
      "4     ICZVZS   high               whber          4.356801        50.845658   \n",
      "\n",
      "   mean_halt_times_source country_code_destination  longitude_destination  \\\n",
      "0               634.16474                      NaN                    NaN   \n",
      "1               634.16474                      NaN                    NaN   \n",
      "2               634.16474                      NaN                    NaN   \n",
      "3               634.16474                      NaN                    NaN   \n",
      "4               634.16474                      NaN                    NaN   \n",
      "\n",
      "   latitude_destination  mean_halt_times_destination  current_year  \\\n",
      "0                   NaN                          NaN          2016   \n",
      "1                   NaN                          NaN          2016   \n",
      "2                   NaN                          NaN          2016   \n",
      "3                   NaN                          NaN          2016   \n",
      "4                   NaN                          NaN          2016   \n",
      "\n",
      "   current_week current_day  is_weekend  \n",
      "0            30   Wednesday       False  \n",
      "1            30   Wednesday       False  \n",
      "2            30   Wednesday       False  \n",
      "3            30   Wednesday       False  \n",
      "4            30   Wednesday       False  \n"
     ]
    }
   ],
   "source": [
    "print(data.head())"
   ]
  }
 ],
 "metadata": {
  "kernelspec": {
   "display_name": "Python 3",
   "language": "python",
   "name": "python3"
  },
  "language_info": {
   "codemirror_mode": {
    "name": "ipython",
    "version": 3
   },
   "file_extension": ".py",
   "mimetype": "text/x-python",
   "name": "python",
   "nbconvert_exporter": "python",
   "pygments_lexer": "ipython3",
   "version": "3.7.1"
  }
 },
 "nbformat": 4,
 "nbformat_minor": 2
}
